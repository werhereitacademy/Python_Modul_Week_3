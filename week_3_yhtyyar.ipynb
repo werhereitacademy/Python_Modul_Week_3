isler = []
silinmis_is_numaralari = []
silinmis_is_numaralari.sort()
siradaki_no = 0

while True:
    print("Yapmak istediğiniz işlem numarasını girin: ")
    print("1 - Yeni İş Ekle")
    print("2 - İşin Durumunu Değiştir")
    print("3 - İş Sil")
    print("4 - Tamamlanan İşleri Listele")
    print("5 - Tüm İşleri Durumlarıyla Listele")
    print("6 - Çıkış")

    secim = input("İşlem numarasını girin: ")

    if secim == "1":
        # Yeni iş ekle
        if len(silinmis_is_numaralari) > 0:
            is_adi = input("Yeni işin adını girin: ").capitalize()
            is_durumu = input("İşin durumunu girin (Tamamlandı, Bekliyor, Silindi): ").capitalize()
            isler.append({
                "no": silinmis_is_numaralari[0],
                "isim": is_adi,
                "durum": is_durumu
            })
            del silinmis_is_numaralari[0]
        else:
            siradaki_no += 1
            is_adi = input("Yeni işin adını girin: ").capitalize()
            is_durumu = input("İşin durumunu girin (Tamamlandı, Bekliyor, Silindi): ").capitalize()
            isler.append({
                "no": siradaki_no,
                "isim": is_adi,
                "durum": is_durumu
            })
        print("Yeni iş başarıyla eklendi.")
    
    elif secim == "2":
        # İşin durumunu değiştir
        is_adi = input("Durumunu değiştirmek istediğiniz işin adını girin: ").capitalize()
        bulunan_isler = [is_ for is_ in isler if is_["isim"] == is_adi]
        
        if len(bulunan_isler) > 0:
            yeni_durum = input("Yeni durumu girin (Tamamlandı, Bekliyor, Silindi): ").capitalize()
            for is_ in isler:
                if is_["isim"] == is_adi:
                    is_["durum"] = yeni_durum
            print("İşin durumu başarıyla değiştirildi.")
        else:
            print("İş bulunamadı.")
    
    elif secim == "3":
        # İş sil
        is_adi = input("Silmek istediğiniz işin adını girin: ").capitalize()
        bulunan_isler = [is_ for is_ in isler if is_["isim"] == is_adi]
        
        if len(bulunan_isler) > 0:
            silinmis_is_numaralari.append(bulunan_isler[0]["no"])
            isler = [is_ for is_ in isler if is_["isim"] != is_adi]
            print("İş başarıyla silindi.")
        else:
            print("İş bulunamadı.")
    
    elif secim == "4":
        # Tamamlanan işleri listele
        tamamlanan_isler = sorted([is_ for is_ in isler if is_["durum"] == "Tamamlandı"], key=lambda x: x["no"])
        print("Tamamlanan işler listesi:")
        print(tamamlanan_isler)
    
    elif secim == "5":
        # Tüm işleri listele
        tum_isler = sorted(isler, key=lambda x: x["no"])
        print("Tüm işler ve durumları:")
        print(tum_isler)
    
    elif secim == "6":
        break
    
    else:
        print("Tanımsız işlem numarası. Lütfen 1 ile 6 arasında bir sayı girin.")
